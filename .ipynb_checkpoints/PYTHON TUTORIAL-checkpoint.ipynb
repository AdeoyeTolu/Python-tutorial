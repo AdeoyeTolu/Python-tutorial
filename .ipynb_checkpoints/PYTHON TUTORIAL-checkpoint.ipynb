{
 "cells": [
  {
   "cell_type": "code",
   "execution_count": null,
   "id": "d764c4f4",
   "metadata": {},
   "outputs": [],
   "source": []
  },
  {
   "cell_type": "code",
   "execution_count": null,
   "id": "bf561d22",
   "metadata": {},
   "outputs": [],
   "source": []
  },
  {
   "cell_type": "code",
   "execution_count": null,
   "id": "74909bf2",
   "metadata": {},
   "outputs": [],
   "source": []
  },
  {
   "attachments": {
    "woman-icon-260nw-406978678.webp": {
     "image/webp": "[encoded data removed]"
    }
   },
   "cell_type": "markdown",
   "id": "1f5704ef",
   "metadata": {},
   "source": [
    " # Introduction to jupyter Notebook\n",
    "\n",
    "you don't have to stress yourself in **creating** body , just write what you want to `write`\n",
    "\n",
    "## python is fun\n",
    "\n",
    "###### smallest header\n",
    "\n",
    "## Order list \n",
    "1. point one\n",
    "2. point two\n",
    "3. point three\n",
    "\n",
    "\n",
    "\n",
    "\n",
    "## unorder List\n",
    "- point one![woman-icon-260nw-406978678.webp](attachment:woman-icon-260nw-406978678.webp)\n",
    "- point two\n",
    "- point three\n"
   ]
  },
  {
   "cell_type": "code",
   "execution_count": 4,
   "id": "8f11b815",
   "metadata": {},
   "outputs": [
    {
     "name": "stdout",
     "output_type": "stream",
     "text": [
      "Hello world, python is awesome\n"
     ]
    }
   ],
   "source": [
    "# am about to write my first python code\n",
    "print(\"Hello world, python is awesome\")"
   ]
  },
  {
   "cell_type": "markdown",
   "id": "7bee276a",
   "metadata": {},
   "source": [
    " # VARIABLE AND IDENTIFIER\n",
    " - A variable is an object that occupy space on computer memory\n",
    " - identifier is used to identify variable\n",
    " \n",
    " \n",
    " ## Rules for naming variables\n",
    " \n",
    " - A variale name cannot start with a number though it can be found anywhere \n",
    " - A variable name cannot contain any special character except underscore\n",
    " - A variable name cannot be joined with space, use underscore instead\n",
    " - A variable cannot be name with python reserved key word e.g print, def"
   ]
  },
  {
   "cell_type": "code",
   "execution_count": null,
   "id": "e5f760dd",
   "metadata": {},
   "outputs": [],
   "source": [
    "# STATE YOUR FULLNAME, AGE AND YOUR NAME OF YOUR SCHOOL,THEN INTRODUCE YOURSELF TO THE SCREEN"
   ]
  },
  {
   "cell_type": "code",
   "execution_count": 15,
   "id": "efcbf4b9",
   "metadata": {},
   "outputs": [
    {
     "name": "stdout",
     "output_type": "stream",
     "text": [
      "helo everyone , my fullname is olaitan kazeem i am 12 years old and the name of my school is LASOP\n"
     ]
    }
   ],
   "source": [
    "first_name = \"olaitan\"\n",
    "last_name = \"kazeem\"\n",
    "age = 12\n",
    "school = \"LASOP\"\n",
    "\n",
    "print(\"helo everyone , my fullname is\", first_name,last_name, \"i am\", age,\"years old and the name of my school is\",school)"
   ]
  },
  {
   "cell_type": "code",
   "execution_count": 16,
   "id": "71cc2d3e",
   "metadata": {},
   "outputs": [
    {
     "name": "stdout",
     "output_type": "stream",
     "text": [
      "please enter your first nametolu\n",
      "please enter your last nameadeoye\n",
      "please enter your age23\n",
      "please enter your school namemilo high school\n",
      "helo everyone , my fullname is tolu adeoye i am 23 years old and the name of my school is milo high school\n"
     ]
    }
   ],
   "source": [
    "first_name = input(\"please enter your first name\")\n",
    "last_name = input(\"please enter your last name\")\n",
    "age =  input(\"please enter your age\")\n",
    "school =  input(\"please enter your school name\")\n",
    "\n",
    "print(\"helo everyone , my fullname is\", first_name,last_name, \"i am\", age,\"years old and the name of my school is\",school)"
   ]
  },
  {
   "cell_type": "code",
   "execution_count": 9,
   "id": "c3d9f9a4",
   "metadata": {},
   "outputs": [],
   "source": [
    "a = 3"
   ]
  },
  {
   "cell_type": "code",
   "execution_count": null,
   "id": "4957e4ec",
   "metadata": {},
   "outputs": [],
   "source": []
  },
  {
   "cell_type": "code",
   "execution_count": null,
   "id": "137a3880",
   "metadata": {},
   "outputs": [],
   "source": [
    "age = 32 "
   ]
  },
  {
   "cell_type": "code",
   "execution_count": 10,
   "id": "409f5d78",
   "metadata": {},
   "outputs": [
    {
     "name": "stdout",
     "output_type": "stream",
     "text": [
      "3\n"
     ]
    }
   ],
   "source": [
    "print(a)"
   ]
  },
  {
   "cell_type": "code",
   "execution_count": 12,
   "id": "c236e881",
   "metadata": {},
   "outputs": [],
   "source": [
    "name1 = \"tolu\""
   ]
  },
  {
   "cell_type": "code",
   "execution_count": 13,
   "id": "60bac382",
   "metadata": {},
   "outputs": [
    {
     "name": "stdout",
     "output_type": "stream",
     "text": [
      "tolu\n"
     ]
    }
   ],
   "source": [
    "print(name1)"
   ]
  }
 ],
 "metadata": {
  "kernelspec": {
   "display_name": "Python 3 (ipykernel)",
   "language": "python",
   "name": "python3"
  },
  "language_info": {
   "codemirror_mode": {
    "name": "ipython",
    "version": 3
   },
   "file_extension": ".py",
   "mimetype": "text/x-python",
   "name": "python",
   "nbconvert_exporter": "python",
   "pygments_lexer": "ipython3",
   "version": "3.9.13"
  }
 },
 "nbformat": 4,
 "nbformat_minor": 5
}
